{
 "cells": [
  {
   "cell_type": "code",
   "execution_count": 1,
   "id": "initial_id",
   "metadata": {
    "collapsed": true,
    "ExecuteTime": {
     "end_time": "2024-02-18T15:49:14.248219Z",
     "start_time": "2024-02-18T15:49:13.859924Z"
    }
   },
   "outputs": [],
   "source": [
    "import pandas as pd\n",
    "import numpy as np\n",
    "import calendar"
   ]
  },
  {
   "cell_type": "code",
   "outputs": [],
   "source": [
    "ads = pd.read_csv('/Users/mpolcyn/DataGripProjects/DW_Capstone/capstone_data_clean.csv', low_memory=False)\n",
    "sales = pd.read_csv('/Users/mpolcyn/DataGripProjects/DW_Capstone/Sales_table.csv', low_memory=False)\n",
    "basic = pd.read_csv('/Users/mpolcyn/DataGripProjects/DW_Capstone/Basic_table.csv', low_memory=False)\n",
    "image = pd.read_csv('/Users/mpolcyn/DataGripProjects/DW_Capstone/Image_table.csv', low_memory=False)\n",
    "price = pd.read_csv('/Users/mpolcyn/DataGripProjects/DW_Capstone/Price_table.csv', low_memory=False)\n",
    "trim = pd.read_csv('/Users/mpolcyn/DataGripProjects/DW_Capstone/Trim_table.csv', low_memory=False)\n"
   ],
   "metadata": {
    "collapsed": false,
    "ExecuteTime": {
     "end_time": "2024-02-18T15:49:16.375195Z",
     "start_time": "2024-02-18T15:49:14.249408Z"
    }
   },
   "id": "7ddcf2136a8b77da",
   "execution_count": 2
  },
  {
   "cell_type": "markdown",
   "source": [
    "### Genmodel_ID isn't unique for models!"
   ],
   "metadata": {
    "collapsed": false
   },
   "id": "d69aeb20669aeb0a"
  },
  {
   "cell_type": "code",
   "outputs": [
    {
     "data": {
      "text/plain": "          Maker            Genmodel Genmodel_ID  2020  2019   2018  2017  \\\n129    CHRYSLER        CHRYSLER 300        17_1     0     0      0     0   \n130    CHRYSLER       CHRYSLER 300C        17_1     0     0      0     0   \n150     CITROEN         CITROEN DS3        21_1     0     0      0     0   \n183          DS              DS DS3        21_1  1738  2168   3173  6911   \n151     CITROEN         CITROEN DS4        21_3     0     0      1     0   \n..          ...                 ...         ...   ...   ...    ...   ...   \n738  VOLKSWAGEN  VOLKSWAGEN LOOK UP       95_33     0     0      0     4   \n751  VOLKSWAGEN       VOLKSWAGEN UP       95_33  3302  6939  10060  8701   \n752  VOLKSWAGEN    VOLKSWAGEN UP BY       95_33   203   820   1133  2198   \n755       VOLVO          VOLVO C 30        96_1     0     0      0     0   \n756       VOLVO           VOLVO C30        96_1     0     0      0     0   \n\n      2016   2015   2014  ...  2010  2009  2008  2007  2006  2005  2004  2003  \\\n129      0      2      1  ...   624   592  1106  1812  1510   162     0     0   \n130      0      1     46  ...     0     0     0     0     0     0     0     0   \n150     18   8557  18543  ...  4662     2     0     0     0     0     0     0   \n183  11872   6776      0  ...     0     0     0     0     0     0     0     0   \n151     11   1140   2369  ...     0     0     0     0     0     0     0     0   \n..     ...    ...    ...  ...   ...   ...   ...   ...   ...   ...   ...   ...   \n738   1219      0      0  ...     0     0     0     0     0     0     0     0   \n751  10441  16280  21475  ...     0     0     0     0     0     0     0     0   \n752    850      0      0  ...     0     0     0     0     0     0     0     0   \n755      0      0      0  ...  5777  6321  3982  2948   165     0     0     0   \n756      0      0      0  ...    24     0     2     0     0     0     0     0   \n\n     2002  2001  \n129     0     0  \n130     0     0  \n150     0     0  \n183     0     0  \n151     0     0  \n..    ...   ...  \n738     0     0  \n751     0     0  \n752     0     0  \n755     0     1  \n756     0     0  \n\n[67 rows x 23 columns]",
      "text/html": "<div>\n<style scoped>\n    .dataframe tbody tr th:only-of-type {\n        vertical-align: middle;\n    }\n\n    .dataframe tbody tr th {\n        vertical-align: top;\n    }\n\n    .dataframe thead th {\n        text-align: right;\n    }\n</style>\n<table border=\"1\" class=\"dataframe\">\n  <thead>\n    <tr style=\"text-align: right;\">\n      <th></th>\n      <th>Maker</th>\n      <th>Genmodel</th>\n      <th>Genmodel_ID</th>\n      <th>2020</th>\n      <th>2019</th>\n      <th>2018</th>\n      <th>2017</th>\n      <th>2016</th>\n      <th>2015</th>\n      <th>2014</th>\n      <th>...</th>\n      <th>2010</th>\n      <th>2009</th>\n      <th>2008</th>\n      <th>2007</th>\n      <th>2006</th>\n      <th>2005</th>\n      <th>2004</th>\n      <th>2003</th>\n      <th>2002</th>\n      <th>2001</th>\n    </tr>\n  </thead>\n  <tbody>\n    <tr>\n      <th>129</th>\n      <td>CHRYSLER</td>\n      <td>CHRYSLER 300</td>\n      <td>17_1</td>\n      <td>0</td>\n      <td>0</td>\n      <td>0</td>\n      <td>0</td>\n      <td>0</td>\n      <td>2</td>\n      <td>1</td>\n      <td>...</td>\n      <td>624</td>\n      <td>592</td>\n      <td>1106</td>\n      <td>1812</td>\n      <td>1510</td>\n      <td>162</td>\n      <td>0</td>\n      <td>0</td>\n      <td>0</td>\n      <td>0</td>\n    </tr>\n    <tr>\n      <th>130</th>\n      <td>CHRYSLER</td>\n      <td>CHRYSLER 300C</td>\n      <td>17_1</td>\n      <td>0</td>\n      <td>0</td>\n      <td>0</td>\n      <td>0</td>\n      <td>0</td>\n      <td>1</td>\n      <td>46</td>\n      <td>...</td>\n      <td>0</td>\n      <td>0</td>\n      <td>0</td>\n      <td>0</td>\n      <td>0</td>\n      <td>0</td>\n      <td>0</td>\n      <td>0</td>\n      <td>0</td>\n      <td>0</td>\n    </tr>\n    <tr>\n      <th>150</th>\n      <td>CITROEN</td>\n      <td>CITROEN DS3</td>\n      <td>21_1</td>\n      <td>0</td>\n      <td>0</td>\n      <td>0</td>\n      <td>0</td>\n      <td>18</td>\n      <td>8557</td>\n      <td>18543</td>\n      <td>...</td>\n      <td>4662</td>\n      <td>2</td>\n      <td>0</td>\n      <td>0</td>\n      <td>0</td>\n      <td>0</td>\n      <td>0</td>\n      <td>0</td>\n      <td>0</td>\n      <td>0</td>\n    </tr>\n    <tr>\n      <th>183</th>\n      <td>DS</td>\n      <td>DS DS3</td>\n      <td>21_1</td>\n      <td>1738</td>\n      <td>2168</td>\n      <td>3173</td>\n      <td>6911</td>\n      <td>11872</td>\n      <td>6776</td>\n      <td>0</td>\n      <td>...</td>\n      <td>0</td>\n      <td>0</td>\n      <td>0</td>\n      <td>0</td>\n      <td>0</td>\n      <td>0</td>\n      <td>0</td>\n      <td>0</td>\n      <td>0</td>\n      <td>0</td>\n    </tr>\n    <tr>\n      <th>151</th>\n      <td>CITROEN</td>\n      <td>CITROEN DS4</td>\n      <td>21_3</td>\n      <td>0</td>\n      <td>0</td>\n      <td>1</td>\n      <td>0</td>\n      <td>11</td>\n      <td>1140</td>\n      <td>2369</td>\n      <td>...</td>\n      <td>0</td>\n      <td>0</td>\n      <td>0</td>\n      <td>0</td>\n      <td>0</td>\n      <td>0</td>\n      <td>0</td>\n      <td>0</td>\n      <td>0</td>\n      <td>0</td>\n    </tr>\n    <tr>\n      <th>...</th>\n      <td>...</td>\n      <td>...</td>\n      <td>...</td>\n      <td>...</td>\n      <td>...</td>\n      <td>...</td>\n      <td>...</td>\n      <td>...</td>\n      <td>...</td>\n      <td>...</td>\n      <td>...</td>\n      <td>...</td>\n      <td>...</td>\n      <td>...</td>\n      <td>...</td>\n      <td>...</td>\n      <td>...</td>\n      <td>...</td>\n      <td>...</td>\n      <td>...</td>\n      <td>...</td>\n    </tr>\n    <tr>\n      <th>738</th>\n      <td>VOLKSWAGEN</td>\n      <td>VOLKSWAGEN LOOK UP</td>\n      <td>95_33</td>\n      <td>0</td>\n      <td>0</td>\n      <td>0</td>\n      <td>4</td>\n      <td>1219</td>\n      <td>0</td>\n      <td>0</td>\n      <td>...</td>\n      <td>0</td>\n      <td>0</td>\n      <td>0</td>\n      <td>0</td>\n      <td>0</td>\n      <td>0</td>\n      <td>0</td>\n      <td>0</td>\n      <td>0</td>\n      <td>0</td>\n    </tr>\n    <tr>\n      <th>751</th>\n      <td>VOLKSWAGEN</td>\n      <td>VOLKSWAGEN UP</td>\n      <td>95_33</td>\n      <td>3302</td>\n      <td>6939</td>\n      <td>10060</td>\n      <td>8701</td>\n      <td>10441</td>\n      <td>16280</td>\n      <td>21475</td>\n      <td>...</td>\n      <td>0</td>\n      <td>0</td>\n      <td>0</td>\n      <td>0</td>\n      <td>0</td>\n      <td>0</td>\n      <td>0</td>\n      <td>0</td>\n      <td>0</td>\n      <td>0</td>\n    </tr>\n    <tr>\n      <th>752</th>\n      <td>VOLKSWAGEN</td>\n      <td>VOLKSWAGEN UP BY</td>\n      <td>95_33</td>\n      <td>203</td>\n      <td>820</td>\n      <td>1133</td>\n      <td>2198</td>\n      <td>850</td>\n      <td>0</td>\n      <td>0</td>\n      <td>...</td>\n      <td>0</td>\n      <td>0</td>\n      <td>0</td>\n      <td>0</td>\n      <td>0</td>\n      <td>0</td>\n      <td>0</td>\n      <td>0</td>\n      <td>0</td>\n      <td>0</td>\n    </tr>\n    <tr>\n      <th>755</th>\n      <td>VOLVO</td>\n      <td>VOLVO C 30</td>\n      <td>96_1</td>\n      <td>0</td>\n      <td>0</td>\n      <td>0</td>\n      <td>0</td>\n      <td>0</td>\n      <td>0</td>\n      <td>0</td>\n      <td>...</td>\n      <td>5777</td>\n      <td>6321</td>\n      <td>3982</td>\n      <td>2948</td>\n      <td>165</td>\n      <td>0</td>\n      <td>0</td>\n      <td>0</td>\n      <td>0</td>\n      <td>1</td>\n    </tr>\n    <tr>\n      <th>756</th>\n      <td>VOLVO</td>\n      <td>VOLVO C30</td>\n      <td>96_1</td>\n      <td>0</td>\n      <td>0</td>\n      <td>0</td>\n      <td>0</td>\n      <td>0</td>\n      <td>0</td>\n      <td>0</td>\n      <td>...</td>\n      <td>24</td>\n      <td>0</td>\n      <td>2</td>\n      <td>0</td>\n      <td>0</td>\n      <td>0</td>\n      <td>0</td>\n      <td>0</td>\n      <td>0</td>\n      <td>0</td>\n    </tr>\n  </tbody>\n</table>\n<p>67 rows × 23 columns</p>\n</div>"
     },
     "execution_count": 3,
     "metadata": {},
     "output_type": "execute_result"
    }
   ],
   "source": [
    "sales[sales.duplicated(\"Genmodel_ID\", keep=False)].sort_values(\"Genmodel_ID\")"
   ],
   "metadata": {
    "collapsed": false,
    "ExecuteTime": {
     "end_time": "2024-02-18T15:49:16.390177Z",
     "start_time": "2024-02-18T15:49:16.375754Z"
    }
   },
   "id": "b96d938d10f90040",
   "execution_count": 3
  },
  {
   "cell_type": "code",
   "outputs": [
    {
     "data": {
      "text/plain": "896"
     },
     "execution_count": 4,
     "metadata": {},
     "output_type": "execute_result"
    }
   ],
   "source": [
    "ads[\"Genmodel\"].nunique()"
   ],
   "metadata": {
    "collapsed": false,
    "ExecuteTime": {
     "end_time": "2024-02-18T15:49:16.395791Z",
     "start_time": "2024-02-18T15:49:16.391517Z"
    }
   },
   "id": "21d611dd6748f251",
   "execution_count": 4
  },
  {
   "cell_type": "code",
   "outputs": [
    {
     "data": {
      "text/plain": "881"
     },
     "execution_count": 5,
     "metadata": {},
     "output_type": "execute_result"
    }
   ],
   "source": [
    "ads[\"Genmodel_ID\"].nunique()"
   ],
   "metadata": {
    "collapsed": false,
    "ExecuteTime": {
     "end_time": "2024-02-18T15:49:16.425725Z",
     "start_time": "2024-02-18T15:49:16.401828Z"
    }
   },
   "id": "2462c06b0f9b1317",
   "execution_count": 5
  },
  {
   "cell_type": "code",
   "outputs": [
    {
     "data": {
      "text/plain": "           Maker Genmodel Genmodel_ID  Adv_Year Adv_Month   Color  \\\n104738  MERCEDES   AMG GT       59_10      2017       Oct   Green   \n104739  MERCEDES   AMG GT       59_10      2018       Apr    Grey   \n104740  MERCEDES   AMG GT       59_10      2018       Mar  Silver   \n104741  MERCEDES   AMG GT       59_10      2017       Apr     NaN   \n104742  MERCEDES   AMG GT       59_10      2018       May     Red   \n...          ...      ...         ...       ...       ...     ...   \n113322  MERCEDES  A CLASS        59_8      2021       Mar     Red   \n113323  MERCEDES  A CLASS        59_8      2021       Mar     Red   \n113324  MERCEDES  A CLASS        59_8      2021       Mar     Red   \n113325  MERCEDES  A CLASS        59_8      2021       Apr  Silver   \n113326  MERCEDES      AMG        59_9      2018       May     Red   \n\n          Body_Type Gearbox_Type Fuel_Type  Reg_Year  ...  Engine_Power  \\\n104738        Coupe    Automatic    Petrol    2017.0  ...         577.0   \n104739        Coupe    Automatic    Petrol    2018.0  ...         577.0   \n104740        Coupe    Automatic    Petrol    2016.0  ...         456.0   \n104741        Coupe    Automatic    Petrol    2016.0  ...         503.0   \n104742  Convertible    Automatic    Petrol    2017.0  ...         550.0   \n...             ...          ...       ...       ...  ...           ...   \n113322    Hatchback    Automatic    Petrol    2019.0  ...           NaN   \n113323    Hatchback       Manual    Petrol    2019.0  ...           NaN   \n113324    Hatchback    Automatic    Petrol    2019.0  ...           NaN   \n113325    Hatchback       Manual    Petrol    2019.0  ...           NaN   \n113326       Saloon    Automatic    Petrol    2000.0  ...         306.0   \n\n        Annual_Tax  Wheelbase  Height   Width  Length  Average_Mpg  Top_Speed  \\\n104738       555.0     2630.0  1287.0  2075.0  4544.0         24.8      198.0   \n104739       140.0     2630.0  1284.0  2007.0  4551.0         24.8      198.0   \n104740       315.0     2630.0  1287.0  2075.0  4546.0         30.4      189.0   \n104741         NaN     2630.0  1287.0  2075.0  4546.0         30.1      193.0   \n104742       140.0     2630.0  1259.0  1939.0  4544.0         11.4      188.0   \n...            ...        ...     ...     ...     ...          ...        ...   \n113322         NaN        NaN     NaN     NaN     NaN          NaN        NaN   \n113323         NaN        NaN     NaN     NaN     NaN          NaN        NaN   \n113324         NaN        NaN     NaN     NaN     NaN          NaN        NaN   \n113325         NaN        NaN     NaN     NaN     NaN          NaN        NaN   \n113326         NaN     2690.0  1460.0  1723.0  4516.0         24.1        NaN   \n\n        Seat_Num  Door_Num  \n104738       2.0       2.0  \n104739       2.0       2.0  \n104740       2.0       2.0  \n104741       2.0       2.0  \n104742       2.0       2.0  \n...          ...       ...  \n113322       5.0       5.0  \n113323       5.0       5.0  \n113324       5.0       5.0  \n113325       5.0       5.0  \n113326       4.0       4.0  \n\n[8589 rows x 23 columns]",
      "text/html": "<div>\n<style scoped>\n    .dataframe tbody tr th:only-of-type {\n        vertical-align: middle;\n    }\n\n    .dataframe tbody tr th {\n        vertical-align: top;\n    }\n\n    .dataframe thead th {\n        text-align: right;\n    }\n</style>\n<table border=\"1\" class=\"dataframe\">\n  <thead>\n    <tr style=\"text-align: right;\">\n      <th></th>\n      <th>Maker</th>\n      <th>Genmodel</th>\n      <th>Genmodel_ID</th>\n      <th>Adv_Year</th>\n      <th>Adv_Month</th>\n      <th>Color</th>\n      <th>Body_Type</th>\n      <th>Gearbox_Type</th>\n      <th>Fuel_Type</th>\n      <th>Reg_Year</th>\n      <th>...</th>\n      <th>Engine_Power</th>\n      <th>Annual_Tax</th>\n      <th>Wheelbase</th>\n      <th>Height</th>\n      <th>Width</th>\n      <th>Length</th>\n      <th>Average_Mpg</th>\n      <th>Top_Speed</th>\n      <th>Seat_Num</th>\n      <th>Door_Num</th>\n    </tr>\n  </thead>\n  <tbody>\n    <tr>\n      <th>104738</th>\n      <td>MERCEDES</td>\n      <td>AMG GT</td>\n      <td>59_10</td>\n      <td>2017</td>\n      <td>Oct</td>\n      <td>Green</td>\n      <td>Coupe</td>\n      <td>Automatic</td>\n      <td>Petrol</td>\n      <td>2017.0</td>\n      <td>...</td>\n      <td>577.0</td>\n      <td>555.0</td>\n      <td>2630.0</td>\n      <td>1287.0</td>\n      <td>2075.0</td>\n      <td>4544.0</td>\n      <td>24.8</td>\n      <td>198.0</td>\n      <td>2.0</td>\n      <td>2.0</td>\n    </tr>\n    <tr>\n      <th>104739</th>\n      <td>MERCEDES</td>\n      <td>AMG GT</td>\n      <td>59_10</td>\n      <td>2018</td>\n      <td>Apr</td>\n      <td>Grey</td>\n      <td>Coupe</td>\n      <td>Automatic</td>\n      <td>Petrol</td>\n      <td>2018.0</td>\n      <td>...</td>\n      <td>577.0</td>\n      <td>140.0</td>\n      <td>2630.0</td>\n      <td>1284.0</td>\n      <td>2007.0</td>\n      <td>4551.0</td>\n      <td>24.8</td>\n      <td>198.0</td>\n      <td>2.0</td>\n      <td>2.0</td>\n    </tr>\n    <tr>\n      <th>104740</th>\n      <td>MERCEDES</td>\n      <td>AMG GT</td>\n      <td>59_10</td>\n      <td>2018</td>\n      <td>Mar</td>\n      <td>Silver</td>\n      <td>Coupe</td>\n      <td>Automatic</td>\n      <td>Petrol</td>\n      <td>2016.0</td>\n      <td>...</td>\n      <td>456.0</td>\n      <td>315.0</td>\n      <td>2630.0</td>\n      <td>1287.0</td>\n      <td>2075.0</td>\n      <td>4546.0</td>\n      <td>30.4</td>\n      <td>189.0</td>\n      <td>2.0</td>\n      <td>2.0</td>\n    </tr>\n    <tr>\n      <th>104741</th>\n      <td>MERCEDES</td>\n      <td>AMG GT</td>\n      <td>59_10</td>\n      <td>2017</td>\n      <td>Apr</td>\n      <td>NaN</td>\n      <td>Coupe</td>\n      <td>Automatic</td>\n      <td>Petrol</td>\n      <td>2016.0</td>\n      <td>...</td>\n      <td>503.0</td>\n      <td>NaN</td>\n      <td>2630.0</td>\n      <td>1287.0</td>\n      <td>2075.0</td>\n      <td>4546.0</td>\n      <td>30.1</td>\n      <td>193.0</td>\n      <td>2.0</td>\n      <td>2.0</td>\n    </tr>\n    <tr>\n      <th>104742</th>\n      <td>MERCEDES</td>\n      <td>AMG GT</td>\n      <td>59_10</td>\n      <td>2018</td>\n      <td>May</td>\n      <td>Red</td>\n      <td>Convertible</td>\n      <td>Automatic</td>\n      <td>Petrol</td>\n      <td>2017.0</td>\n      <td>...</td>\n      <td>550.0</td>\n      <td>140.0</td>\n      <td>2630.0</td>\n      <td>1259.0</td>\n      <td>1939.0</td>\n      <td>4544.0</td>\n      <td>11.4</td>\n      <td>188.0</td>\n      <td>2.0</td>\n      <td>2.0</td>\n    </tr>\n    <tr>\n      <th>...</th>\n      <td>...</td>\n      <td>...</td>\n      <td>...</td>\n      <td>...</td>\n      <td>...</td>\n      <td>...</td>\n      <td>...</td>\n      <td>...</td>\n      <td>...</td>\n      <td>...</td>\n      <td>...</td>\n      <td>...</td>\n      <td>...</td>\n      <td>...</td>\n      <td>...</td>\n      <td>...</td>\n      <td>...</td>\n      <td>...</td>\n      <td>...</td>\n      <td>...</td>\n      <td>...</td>\n    </tr>\n    <tr>\n      <th>113322</th>\n      <td>MERCEDES</td>\n      <td>A CLASS</td>\n      <td>59_8</td>\n      <td>2021</td>\n      <td>Mar</td>\n      <td>Red</td>\n      <td>Hatchback</td>\n      <td>Automatic</td>\n      <td>Petrol</td>\n      <td>2019.0</td>\n      <td>...</td>\n      <td>NaN</td>\n      <td>NaN</td>\n      <td>NaN</td>\n      <td>NaN</td>\n      <td>NaN</td>\n      <td>NaN</td>\n      <td>NaN</td>\n      <td>NaN</td>\n      <td>5.0</td>\n      <td>5.0</td>\n    </tr>\n    <tr>\n      <th>113323</th>\n      <td>MERCEDES</td>\n      <td>A CLASS</td>\n      <td>59_8</td>\n      <td>2021</td>\n      <td>Mar</td>\n      <td>Red</td>\n      <td>Hatchback</td>\n      <td>Manual</td>\n      <td>Petrol</td>\n      <td>2019.0</td>\n      <td>...</td>\n      <td>NaN</td>\n      <td>NaN</td>\n      <td>NaN</td>\n      <td>NaN</td>\n      <td>NaN</td>\n      <td>NaN</td>\n      <td>NaN</td>\n      <td>NaN</td>\n      <td>5.0</td>\n      <td>5.0</td>\n    </tr>\n    <tr>\n      <th>113324</th>\n      <td>MERCEDES</td>\n      <td>A CLASS</td>\n      <td>59_8</td>\n      <td>2021</td>\n      <td>Mar</td>\n      <td>Red</td>\n      <td>Hatchback</td>\n      <td>Automatic</td>\n      <td>Petrol</td>\n      <td>2019.0</td>\n      <td>...</td>\n      <td>NaN</td>\n      <td>NaN</td>\n      <td>NaN</td>\n      <td>NaN</td>\n      <td>NaN</td>\n      <td>NaN</td>\n      <td>NaN</td>\n      <td>NaN</td>\n      <td>5.0</td>\n      <td>5.0</td>\n    </tr>\n    <tr>\n      <th>113325</th>\n      <td>MERCEDES</td>\n      <td>A CLASS</td>\n      <td>59_8</td>\n      <td>2021</td>\n      <td>Apr</td>\n      <td>Silver</td>\n      <td>Hatchback</td>\n      <td>Manual</td>\n      <td>Petrol</td>\n      <td>2019.0</td>\n      <td>...</td>\n      <td>NaN</td>\n      <td>NaN</td>\n      <td>NaN</td>\n      <td>NaN</td>\n      <td>NaN</td>\n      <td>NaN</td>\n      <td>NaN</td>\n      <td>NaN</td>\n      <td>5.0</td>\n      <td>5.0</td>\n    </tr>\n    <tr>\n      <th>113326</th>\n      <td>MERCEDES</td>\n      <td>AMG</td>\n      <td>59_9</td>\n      <td>2018</td>\n      <td>May</td>\n      <td>Red</td>\n      <td>Saloon</td>\n      <td>Automatic</td>\n      <td>Petrol</td>\n      <td>2000.0</td>\n      <td>...</td>\n      <td>306.0</td>\n      <td>NaN</td>\n      <td>2690.0</td>\n      <td>1460.0</td>\n      <td>1723.0</td>\n      <td>4516.0</td>\n      <td>24.1</td>\n      <td>NaN</td>\n      <td>4.0</td>\n      <td>4.0</td>\n    </tr>\n  </tbody>\n</table>\n<p>8589 rows × 23 columns</p>\n</div>"
     },
     "execution_count": 6,
     "metadata": {},
     "output_type": "execute_result"
    }
   ],
   "source": [
    "ads['Maker'] = ads['Maker'].str.upper().apply(lambda x: x.replace('-', ' '))\n",
    "ads['Maker'] = ads['Maker'].replace('MERCEDES BENZ', 'MERCEDES')\n",
    "ads['Genmodel'] = ads['Genmodel'].str.upper()\n",
    "ads[ads['Maker'].str.contains('MERCEDES')]"
   ],
   "metadata": {
    "collapsed": false,
    "ExecuteTime": {
     "end_time": "2024-02-18T15:49:16.533324Z",
     "start_time": "2024-02-18T15:49:16.417632Z"
    }
   },
   "id": "413fffb94ec877d9",
   "execution_count": 6
  },
  {
   "cell_type": "code",
   "outputs": [],
   "source": [
    "ads.to_csv('/Users/mpolcyn/DataGripProjects/DW_Capstone/capstone_data_clean.csv', index=False)"
   ],
   "metadata": {
    "collapsed": false,
    "ExecuteTime": {
     "end_time": "2024-02-18T15:49:17.736710Z",
     "start_time": "2024-02-18T15:49:16.532662Z"
    }
   },
   "id": "2e259b09c3383489",
   "execution_count": 7
  },
  {
   "cell_type": "code",
   "outputs": [],
   "source": [
    "for name in ads.columns:\n",
    "    ads[name] = ads[name].fillna(r'\\N')"
   ],
   "metadata": {
    "collapsed": false,
    "ExecuteTime": {
     "end_time": "2024-02-18T15:49:17.915392Z",
     "start_time": "2024-02-18T15:49:17.742459Z"
    }
   },
   "id": "16b98443f721c3a3",
   "execution_count": 8
  },
  {
   "cell_type": "code",
   "outputs": [
    {
     "data": {
      "text/plain": "     Maker Genmodel Genmodel_ID  Adv_Year Adv_Month   Color Body_Type  \\\n0  BENTLEY   ARNAGE        10_1      2018       Apr  Silver    Saloon   \n1  BENTLEY   ARNAGE        10_1      2018       Jun    Grey    Saloon   \n2  BENTLEY   ARNAGE        10_1      2017       Nov    Blue    Saloon   \n3  BENTLEY   ARNAGE        10_1      2018       Apr   Green    Saloon   \n4  BENTLEY   ARNAGE        10_1      2017       Nov    Grey    Saloon   \n\n  Gearbox_Type Fuel_Type Reg_Year  ... Engine_Power Annual_Tax Wheelbase  \\\n0    Automatic    Petrol   2000.0  ...           \\N         \\N    3116.0   \n1    Automatic    Petrol   2002.0  ...        450.0      315.0    3116.0   \n2    Automatic    Petrol   2002.0  ...        400.0      315.0    3116.0   \n3    Automatic    Petrol   2003.0  ...           \\N         \\N    3116.0   \n4    Automatic    Petrol   2003.0  ...           \\N         \\N    3116.0   \n\n   Height   Width  Length Average_Mpg Top_Speed Seat_Num Door_Num  \n0  1515.0  2125.0  5390.0          \\N        \\N      5.0      4.0  \n1  1515.0  2125.0  5390.0        13.7     179.0      5.0      4.0  \n2  1515.0  2125.0  5390.0        14.7     155.0      5.0      4.0  \n3  1515.0  2125.0  5390.0          \\N        \\N      5.0      4.0  \n4  1515.0  2125.0  5390.0          \\N        \\N      5.0      4.0  \n\n[5 rows x 23 columns]",
      "text/html": "<div>\n<style scoped>\n    .dataframe tbody tr th:only-of-type {\n        vertical-align: middle;\n    }\n\n    .dataframe tbody tr th {\n        vertical-align: top;\n    }\n\n    .dataframe thead th {\n        text-align: right;\n    }\n</style>\n<table border=\"1\" class=\"dataframe\">\n  <thead>\n    <tr style=\"text-align: right;\">\n      <th></th>\n      <th>Maker</th>\n      <th>Genmodel</th>\n      <th>Genmodel_ID</th>\n      <th>Adv_Year</th>\n      <th>Adv_Month</th>\n      <th>Color</th>\n      <th>Body_Type</th>\n      <th>Gearbox_Type</th>\n      <th>Fuel_Type</th>\n      <th>Reg_Year</th>\n      <th>...</th>\n      <th>Engine_Power</th>\n      <th>Annual_Tax</th>\n      <th>Wheelbase</th>\n      <th>Height</th>\n      <th>Width</th>\n      <th>Length</th>\n      <th>Average_Mpg</th>\n      <th>Top_Speed</th>\n      <th>Seat_Num</th>\n      <th>Door_Num</th>\n    </tr>\n  </thead>\n  <tbody>\n    <tr>\n      <th>0</th>\n      <td>BENTLEY</td>\n      <td>ARNAGE</td>\n      <td>10_1</td>\n      <td>2018</td>\n      <td>Apr</td>\n      <td>Silver</td>\n      <td>Saloon</td>\n      <td>Automatic</td>\n      <td>Petrol</td>\n      <td>2000.0</td>\n      <td>...</td>\n      <td>\\N</td>\n      <td>\\N</td>\n      <td>3116.0</td>\n      <td>1515.0</td>\n      <td>2125.0</td>\n      <td>5390.0</td>\n      <td>\\N</td>\n      <td>\\N</td>\n      <td>5.0</td>\n      <td>4.0</td>\n    </tr>\n    <tr>\n      <th>1</th>\n      <td>BENTLEY</td>\n      <td>ARNAGE</td>\n      <td>10_1</td>\n      <td>2018</td>\n      <td>Jun</td>\n      <td>Grey</td>\n      <td>Saloon</td>\n      <td>Automatic</td>\n      <td>Petrol</td>\n      <td>2002.0</td>\n      <td>...</td>\n      <td>450.0</td>\n      <td>315.0</td>\n      <td>3116.0</td>\n      <td>1515.0</td>\n      <td>2125.0</td>\n      <td>5390.0</td>\n      <td>13.7</td>\n      <td>179.0</td>\n      <td>5.0</td>\n      <td>4.0</td>\n    </tr>\n    <tr>\n      <th>2</th>\n      <td>BENTLEY</td>\n      <td>ARNAGE</td>\n      <td>10_1</td>\n      <td>2017</td>\n      <td>Nov</td>\n      <td>Blue</td>\n      <td>Saloon</td>\n      <td>Automatic</td>\n      <td>Petrol</td>\n      <td>2002.0</td>\n      <td>...</td>\n      <td>400.0</td>\n      <td>315.0</td>\n      <td>3116.0</td>\n      <td>1515.0</td>\n      <td>2125.0</td>\n      <td>5390.0</td>\n      <td>14.7</td>\n      <td>155.0</td>\n      <td>5.0</td>\n      <td>4.0</td>\n    </tr>\n    <tr>\n      <th>3</th>\n      <td>BENTLEY</td>\n      <td>ARNAGE</td>\n      <td>10_1</td>\n      <td>2018</td>\n      <td>Apr</td>\n      <td>Green</td>\n      <td>Saloon</td>\n      <td>Automatic</td>\n      <td>Petrol</td>\n      <td>2003.0</td>\n      <td>...</td>\n      <td>\\N</td>\n      <td>\\N</td>\n      <td>3116.0</td>\n      <td>1515.0</td>\n      <td>2125.0</td>\n      <td>5390.0</td>\n      <td>\\N</td>\n      <td>\\N</td>\n      <td>5.0</td>\n      <td>4.0</td>\n    </tr>\n    <tr>\n      <th>4</th>\n      <td>BENTLEY</td>\n      <td>ARNAGE</td>\n      <td>10_1</td>\n      <td>2017</td>\n      <td>Nov</td>\n      <td>Grey</td>\n      <td>Saloon</td>\n      <td>Automatic</td>\n      <td>Petrol</td>\n      <td>2003.0</td>\n      <td>...</td>\n      <td>\\N</td>\n      <td>\\N</td>\n      <td>3116.0</td>\n      <td>1515.0</td>\n      <td>2125.0</td>\n      <td>5390.0</td>\n      <td>\\N</td>\n      <td>\\N</td>\n      <td>5.0</td>\n      <td>4.0</td>\n    </tr>\n  </tbody>\n</table>\n<p>5 rows × 23 columns</p>\n</div>"
     },
     "execution_count": 9,
     "metadata": {},
     "output_type": "execute_result"
    }
   ],
   "source": [
    "ads.head()"
   ],
   "metadata": {
    "collapsed": false,
    "ExecuteTime": {
     "end_time": "2024-02-18T15:49:17.922364Z",
     "start_time": "2024-02-18T15:49:17.919666Z"
    }
   },
   "id": "538b99e04620c270",
   "execution_count": 9
  },
  {
   "cell_type": "code",
   "outputs": [],
   "source": [
    "ads.to_csv('/Users/mpolcyn/DataGripProjects/DW_Capstone/capstone_data_NULL.csv', index=False)"
   ],
   "metadata": {
    "collapsed": false,
    "ExecuteTime": {
     "end_time": "2024-02-18T15:49:18.836230Z",
     "start_time": "2024-02-18T15:49:17.922551Z"
    }
   },
   "id": "bf718ad2968f3d90",
   "execution_count": 10
  },
  {
   "cell_type": "code",
   "outputs": [
    {
     "data": {
      "text/plain": "             0  year  month month_name month_short_name\n0   1960-01-31  1960      1    January              Jan\n1   1960-02-29  1960      2   February              Feb\n2   1960-03-31  1960      3      March              Mar\n3   1960-04-30  1960      4      April              Apr\n4   1960-05-31  1960      5        May              May\n..         ...   ...    ...        ...              ...\n738 2021-07-31  2021      7       July              Jul\n739 2021-08-31  2021      8     August              Aug\n740 2021-09-30  2021      9  September              Sep\n741 2021-10-31  2021     10    October              Oct\n742 2021-11-30  2021     11   November              Nov\n\n[743 rows x 5 columns]",
      "text/html": "<div>\n<style scoped>\n    .dataframe tbody tr th:only-of-type {\n        vertical-align: middle;\n    }\n\n    .dataframe tbody tr th {\n        vertical-align: top;\n    }\n\n    .dataframe thead th {\n        text-align: right;\n    }\n</style>\n<table border=\"1\" class=\"dataframe\">\n  <thead>\n    <tr style=\"text-align: right;\">\n      <th></th>\n      <th>0</th>\n      <th>year</th>\n      <th>month</th>\n      <th>month_name</th>\n      <th>month_short_name</th>\n    </tr>\n  </thead>\n  <tbody>\n    <tr>\n      <th>0</th>\n      <td>1960-01-31</td>\n      <td>1960</td>\n      <td>1</td>\n      <td>January</td>\n      <td>Jan</td>\n    </tr>\n    <tr>\n      <th>1</th>\n      <td>1960-02-29</td>\n      <td>1960</td>\n      <td>2</td>\n      <td>February</td>\n      <td>Feb</td>\n    </tr>\n    <tr>\n      <th>2</th>\n      <td>1960-03-31</td>\n      <td>1960</td>\n      <td>3</td>\n      <td>March</td>\n      <td>Mar</td>\n    </tr>\n    <tr>\n      <th>3</th>\n      <td>1960-04-30</td>\n      <td>1960</td>\n      <td>4</td>\n      <td>April</td>\n      <td>Apr</td>\n    </tr>\n    <tr>\n      <th>4</th>\n      <td>1960-05-31</td>\n      <td>1960</td>\n      <td>5</td>\n      <td>May</td>\n      <td>May</td>\n    </tr>\n    <tr>\n      <th>...</th>\n      <td>...</td>\n      <td>...</td>\n      <td>...</td>\n      <td>...</td>\n      <td>...</td>\n    </tr>\n    <tr>\n      <th>738</th>\n      <td>2021-07-31</td>\n      <td>2021</td>\n      <td>7</td>\n      <td>July</td>\n      <td>Jul</td>\n    </tr>\n    <tr>\n      <th>739</th>\n      <td>2021-08-31</td>\n      <td>2021</td>\n      <td>8</td>\n      <td>August</td>\n      <td>Aug</td>\n    </tr>\n    <tr>\n      <th>740</th>\n      <td>2021-09-30</td>\n      <td>2021</td>\n      <td>9</td>\n      <td>September</td>\n      <td>Sep</td>\n    </tr>\n    <tr>\n      <th>741</th>\n      <td>2021-10-31</td>\n      <td>2021</td>\n      <td>10</td>\n      <td>October</td>\n      <td>Oct</td>\n    </tr>\n    <tr>\n      <th>742</th>\n      <td>2021-11-30</td>\n      <td>2021</td>\n      <td>11</td>\n      <td>November</td>\n      <td>Nov</td>\n    </tr>\n  </tbody>\n</table>\n<p>743 rows × 5 columns</p>\n</div>"
     },
     "execution_count": 11,
     "metadata": {},
     "output_type": "execute_result"
    }
   ],
   "source": [
    "dates = pd.DataFrame(pd.date_range(start=\"1960-01\", end=\"2021-12\", freq=\"M\"))\n",
    "dates['year'] = dates[0].apply(lambda x: x.year)\n",
    "dates['month'] = dates[0].apply(lambda x: x.month)\n",
    "dates['month_name'] = dates['month'].apply(lambda x: calendar.month_name[x])\n",
    "dates['month_short_name'] = dates['month'].apply(lambda x: calendar.month_name[x][:3])\n",
    "dates"
   ],
   "metadata": {
    "collapsed": false,
    "ExecuteTime": {
     "end_time": "2024-02-18T15:49:18.850527Z",
     "start_time": "2024-02-18T15:49:18.845077Z"
    }
   },
   "id": "d6b260dd4f9aac02",
   "execution_count": 11
  },
  {
   "cell_type": "code",
   "outputs": [
    {
     "data": {
      "text/plain": "     year  month month_name month_short_name\n0    1960      1    January              Jan\n1    1960      2   February              Feb\n2    1960      3      March              Mar\n3    1960      4      April              Apr\n4    1960      5        May              May\n..    ...    ...        ...              ...\n738  2021      7       July              Jul\n739  2021      8     August              Aug\n740  2021      9  September              Sep\n741  2021     10    October              Oct\n742  2021     11   November              Nov\n\n[743 rows x 4 columns]",
      "text/html": "<div>\n<style scoped>\n    .dataframe tbody tr th:only-of-type {\n        vertical-align: middle;\n    }\n\n    .dataframe tbody tr th {\n        vertical-align: top;\n    }\n\n    .dataframe thead th {\n        text-align: right;\n    }\n</style>\n<table border=\"1\" class=\"dataframe\">\n  <thead>\n    <tr style=\"text-align: right;\">\n      <th></th>\n      <th>year</th>\n      <th>month</th>\n      <th>month_name</th>\n      <th>month_short_name</th>\n    </tr>\n  </thead>\n  <tbody>\n    <tr>\n      <th>0</th>\n      <td>1960</td>\n      <td>1</td>\n      <td>January</td>\n      <td>Jan</td>\n    </tr>\n    <tr>\n      <th>1</th>\n      <td>1960</td>\n      <td>2</td>\n      <td>February</td>\n      <td>Feb</td>\n    </tr>\n    <tr>\n      <th>2</th>\n      <td>1960</td>\n      <td>3</td>\n      <td>March</td>\n      <td>Mar</td>\n    </tr>\n    <tr>\n      <th>3</th>\n      <td>1960</td>\n      <td>4</td>\n      <td>April</td>\n      <td>Apr</td>\n    </tr>\n    <tr>\n      <th>4</th>\n      <td>1960</td>\n      <td>5</td>\n      <td>May</td>\n      <td>May</td>\n    </tr>\n    <tr>\n      <th>...</th>\n      <td>...</td>\n      <td>...</td>\n      <td>...</td>\n      <td>...</td>\n    </tr>\n    <tr>\n      <th>738</th>\n      <td>2021</td>\n      <td>7</td>\n      <td>July</td>\n      <td>Jul</td>\n    </tr>\n    <tr>\n      <th>739</th>\n      <td>2021</td>\n      <td>8</td>\n      <td>August</td>\n      <td>Aug</td>\n    </tr>\n    <tr>\n      <th>740</th>\n      <td>2021</td>\n      <td>9</td>\n      <td>September</td>\n      <td>Sep</td>\n    </tr>\n    <tr>\n      <th>741</th>\n      <td>2021</td>\n      <td>10</td>\n      <td>October</td>\n      <td>Oct</td>\n    </tr>\n    <tr>\n      <th>742</th>\n      <td>2021</td>\n      <td>11</td>\n      <td>November</td>\n      <td>Nov</td>\n    </tr>\n  </tbody>\n</table>\n<p>743 rows × 4 columns</p>\n</div>"
     },
     "execution_count": 12,
     "metadata": {},
     "output_type": "execute_result"
    }
   ],
   "source": [
    "dates = dates[['year', 'month', 'month_name', 'month_short_name']]\n",
    "dates"
   ],
   "metadata": {
    "collapsed": false,
    "ExecuteTime": {
     "end_time": "2024-02-18T15:49:18.856293Z",
     "start_time": "2024-02-18T15:49:18.850020Z"
    }
   },
   "id": "dc9087c3111abecc",
   "execution_count": 12
  },
  {
   "cell_type": "code",
   "outputs": [],
   "source": [
    "dates.to_csv('/Users/mpolcyn/DataGripProjects/DW_Capstone/dates.csv', index=False)"
   ],
   "metadata": {
    "collapsed": false,
    "ExecuteTime": {
     "end_time": "2024-02-18T15:49:18.856691Z",
     "start_time": "2024-02-18T15:49:18.852572Z"
    }
   },
   "id": "b28ff822fab1034e",
   "execution_count": 13
  }
 ],
 "metadata": {
  "kernelspec": {
   "display_name": "Python 3",
   "language": "python",
   "name": "python3"
  },
  "language_info": {
   "codemirror_mode": {
    "name": "ipython",
    "version": 2
   },
   "file_extension": ".py",
   "mimetype": "text/x-python",
   "name": "python",
   "nbconvert_exporter": "python",
   "pygments_lexer": "ipython2",
   "version": "2.7.6"
  }
 },
 "nbformat": 4,
 "nbformat_minor": 5
}
